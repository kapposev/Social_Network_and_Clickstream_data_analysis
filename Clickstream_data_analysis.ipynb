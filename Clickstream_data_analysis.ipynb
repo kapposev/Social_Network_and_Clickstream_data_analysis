{
 "cells": [
  {
   "cell_type": "code",
   "execution_count": 2,
   "metadata": {},
   "outputs": [],
   "source": [
    "import pandas as pd\n",
    "import numpy as np\n",
    "import math \n",
    "import networkx as nx\n",
    "import matplotlib.pyplot as plt\n",
    "from collections import Counter\n"
   ]
  },
  {
   "cell_type": "code",
   "execution_count": 3,
   "metadata": {},
   "outputs": [
    {
     "ename": "ParserError",
     "evalue": "Error tokenizing data. C error: Expected 3 fields in line 3, saw 6\n",
     "output_type": "error",
     "traceback": [
      "\u001b[1;31m---------------------------------------------------------------------------\u001b[0m",
      "\u001b[1;31mParserError\u001b[0m                               Traceback (most recent call last)",
      "\u001b[1;32m<ipython-input-3-5d845bc68b7c>\u001b[0m in \u001b[0;36m<module>\u001b[1;34m\u001b[0m\n\u001b[1;32m----> 1\u001b[1;33m \u001b[0mdf\u001b[0m\u001b[1;33m=\u001b[0m\u001b[0mpd\u001b[0m\u001b[1;33m.\u001b[0m\u001b[0mread_csv\u001b[0m\u001b[1;33m(\u001b[0m\u001b[1;34m\"visitor_data.csv\"\u001b[0m\u001b[1;33m)\u001b[0m\u001b[1;33m\u001b[0m\u001b[1;33m\u001b[0m\u001b[0m\n\u001b[0m\u001b[0;32m      2\u001b[0m \u001b[0mdf\u001b[0m\u001b[1;33m\u001b[0m\u001b[1;33m\u001b[0m\u001b[0m\n",
      "\u001b[1;32mC:\\ProgramData\\Anaconda3\\lib\\site-packages\\pandas\\io\\parsers.py\u001b[0m in \u001b[0;36mparser_f\u001b[1;34m(filepath_or_buffer, sep, delimiter, header, names, index_col, usecols, squeeze, prefix, mangle_dupe_cols, dtype, engine, converters, true_values, false_values, skipinitialspace, skiprows, skipfooter, nrows, na_values, keep_default_na, na_filter, verbose, skip_blank_lines, parse_dates, infer_datetime_format, keep_date_col, date_parser, dayfirst, cache_dates, iterator, chunksize, compression, thousands, decimal, lineterminator, quotechar, quoting, doublequote, escapechar, comment, encoding, dialect, error_bad_lines, warn_bad_lines, delim_whitespace, low_memory, memory_map, float_precision)\u001b[0m\n\u001b[0;32m    674\u001b[0m         )\n\u001b[0;32m    675\u001b[0m \u001b[1;33m\u001b[0m\u001b[0m\n\u001b[1;32m--> 676\u001b[1;33m         \u001b[1;32mreturn\u001b[0m \u001b[0m_read\u001b[0m\u001b[1;33m(\u001b[0m\u001b[0mfilepath_or_buffer\u001b[0m\u001b[1;33m,\u001b[0m \u001b[0mkwds\u001b[0m\u001b[1;33m)\u001b[0m\u001b[1;33m\u001b[0m\u001b[1;33m\u001b[0m\u001b[0m\n\u001b[0m\u001b[0;32m    677\u001b[0m \u001b[1;33m\u001b[0m\u001b[0m\n\u001b[0;32m    678\u001b[0m     \u001b[0mparser_f\u001b[0m\u001b[1;33m.\u001b[0m\u001b[0m__name__\u001b[0m \u001b[1;33m=\u001b[0m \u001b[0mname\u001b[0m\u001b[1;33m\u001b[0m\u001b[1;33m\u001b[0m\u001b[0m\n",
      "\u001b[1;32mC:\\ProgramData\\Anaconda3\\lib\\site-packages\\pandas\\io\\parsers.py\u001b[0m in \u001b[0;36m_read\u001b[1;34m(filepath_or_buffer, kwds)\u001b[0m\n\u001b[0;32m    452\u001b[0m \u001b[1;33m\u001b[0m\u001b[0m\n\u001b[0;32m    453\u001b[0m     \u001b[1;32mtry\u001b[0m\u001b[1;33m:\u001b[0m\u001b[1;33m\u001b[0m\u001b[1;33m\u001b[0m\u001b[0m\n\u001b[1;32m--> 454\u001b[1;33m         \u001b[0mdata\u001b[0m \u001b[1;33m=\u001b[0m \u001b[0mparser\u001b[0m\u001b[1;33m.\u001b[0m\u001b[0mread\u001b[0m\u001b[1;33m(\u001b[0m\u001b[0mnrows\u001b[0m\u001b[1;33m)\u001b[0m\u001b[1;33m\u001b[0m\u001b[1;33m\u001b[0m\u001b[0m\n\u001b[0m\u001b[0;32m    455\u001b[0m     \u001b[1;32mfinally\u001b[0m\u001b[1;33m:\u001b[0m\u001b[1;33m\u001b[0m\u001b[1;33m\u001b[0m\u001b[0m\n\u001b[0;32m    456\u001b[0m         \u001b[0mparser\u001b[0m\u001b[1;33m.\u001b[0m\u001b[0mclose\u001b[0m\u001b[1;33m(\u001b[0m\u001b[1;33m)\u001b[0m\u001b[1;33m\u001b[0m\u001b[1;33m\u001b[0m\u001b[0m\n",
      "\u001b[1;32mC:\\ProgramData\\Anaconda3\\lib\\site-packages\\pandas\\io\\parsers.py\u001b[0m in \u001b[0;36mread\u001b[1;34m(self, nrows)\u001b[0m\n\u001b[0;32m   1131\u001b[0m     \u001b[1;32mdef\u001b[0m \u001b[0mread\u001b[0m\u001b[1;33m(\u001b[0m\u001b[0mself\u001b[0m\u001b[1;33m,\u001b[0m \u001b[0mnrows\u001b[0m\u001b[1;33m=\u001b[0m\u001b[1;32mNone\u001b[0m\u001b[1;33m)\u001b[0m\u001b[1;33m:\u001b[0m\u001b[1;33m\u001b[0m\u001b[1;33m\u001b[0m\u001b[0m\n\u001b[0;32m   1132\u001b[0m         \u001b[0mnrows\u001b[0m \u001b[1;33m=\u001b[0m \u001b[0m_validate_integer\u001b[0m\u001b[1;33m(\u001b[0m\u001b[1;34m\"nrows\"\u001b[0m\u001b[1;33m,\u001b[0m \u001b[0mnrows\u001b[0m\u001b[1;33m)\u001b[0m\u001b[1;33m\u001b[0m\u001b[1;33m\u001b[0m\u001b[0m\n\u001b[1;32m-> 1133\u001b[1;33m         \u001b[0mret\u001b[0m \u001b[1;33m=\u001b[0m \u001b[0mself\u001b[0m\u001b[1;33m.\u001b[0m\u001b[0m_engine\u001b[0m\u001b[1;33m.\u001b[0m\u001b[0mread\u001b[0m\u001b[1;33m(\u001b[0m\u001b[0mnrows\u001b[0m\u001b[1;33m)\u001b[0m\u001b[1;33m\u001b[0m\u001b[1;33m\u001b[0m\u001b[0m\n\u001b[0m\u001b[0;32m   1134\u001b[0m \u001b[1;33m\u001b[0m\u001b[0m\n\u001b[0;32m   1135\u001b[0m         \u001b[1;31m# May alter columns / col_dict\u001b[0m\u001b[1;33m\u001b[0m\u001b[1;33m\u001b[0m\u001b[1;33m\u001b[0m\u001b[0m\n",
      "\u001b[1;32mC:\\ProgramData\\Anaconda3\\lib\\site-packages\\pandas\\io\\parsers.py\u001b[0m in \u001b[0;36mread\u001b[1;34m(self, nrows)\u001b[0m\n\u001b[0;32m   2035\u001b[0m     \u001b[1;32mdef\u001b[0m \u001b[0mread\u001b[0m\u001b[1;33m(\u001b[0m\u001b[0mself\u001b[0m\u001b[1;33m,\u001b[0m \u001b[0mnrows\u001b[0m\u001b[1;33m=\u001b[0m\u001b[1;32mNone\u001b[0m\u001b[1;33m)\u001b[0m\u001b[1;33m:\u001b[0m\u001b[1;33m\u001b[0m\u001b[1;33m\u001b[0m\u001b[0m\n\u001b[0;32m   2036\u001b[0m         \u001b[1;32mtry\u001b[0m\u001b[1;33m:\u001b[0m\u001b[1;33m\u001b[0m\u001b[1;33m\u001b[0m\u001b[0m\n\u001b[1;32m-> 2037\u001b[1;33m             \u001b[0mdata\u001b[0m \u001b[1;33m=\u001b[0m \u001b[0mself\u001b[0m\u001b[1;33m.\u001b[0m\u001b[0m_reader\u001b[0m\u001b[1;33m.\u001b[0m\u001b[0mread\u001b[0m\u001b[1;33m(\u001b[0m\u001b[0mnrows\u001b[0m\u001b[1;33m)\u001b[0m\u001b[1;33m\u001b[0m\u001b[1;33m\u001b[0m\u001b[0m\n\u001b[0m\u001b[0;32m   2038\u001b[0m         \u001b[1;32mexcept\u001b[0m \u001b[0mStopIteration\u001b[0m\u001b[1;33m:\u001b[0m\u001b[1;33m\u001b[0m\u001b[1;33m\u001b[0m\u001b[0m\n\u001b[0;32m   2039\u001b[0m             \u001b[1;32mif\u001b[0m \u001b[0mself\u001b[0m\u001b[1;33m.\u001b[0m\u001b[0m_first_chunk\u001b[0m\u001b[1;33m:\u001b[0m\u001b[1;33m\u001b[0m\u001b[1;33m\u001b[0m\u001b[0m\n",
      "\u001b[1;32mpandas\\_libs\\parsers.pyx\u001b[0m in \u001b[0;36mpandas._libs.parsers.TextReader.read\u001b[1;34m()\u001b[0m\n",
      "\u001b[1;32mpandas\\_libs\\parsers.pyx\u001b[0m in \u001b[0;36mpandas._libs.parsers.TextReader._read_low_memory\u001b[1;34m()\u001b[0m\n",
      "\u001b[1;32mpandas\\_libs\\parsers.pyx\u001b[0m in \u001b[0;36mpandas._libs.parsers.TextReader._read_rows\u001b[1;34m()\u001b[0m\n",
      "\u001b[1;32mpandas\\_libs\\parsers.pyx\u001b[0m in \u001b[0;36mpandas._libs.parsers.TextReader._tokenize_rows\u001b[1;34m()\u001b[0m\n",
      "\u001b[1;32mpandas\\_libs\\parsers.pyx\u001b[0m in \u001b[0;36mpandas._libs.parsers.raise_parser_error\u001b[1;34m()\u001b[0m\n",
      "\u001b[1;31mParserError\u001b[0m: Error tokenizing data. C error: Expected 3 fields in line 3, saw 6\n"
     ]
    }
   ],
   "source": [
    "df=pd.read_csv(\"visitor_data.csv\")\n",
    "df"
   ]
  },
  {
   "cell_type": "code",
   "execution_count": null,
   "metadata": {},
   "outputs": [],
   "source": [
    "purchase=df.loc[ (df['step_3']== \"purchese_success\")\n",
    "                     |(df['step_4']== \"purchese_success\")|(df['step_5']== \"purchese_success\")|(df['step_6']== \"purchese_success\")\n",
    "                     |(df['step_7']== \"purchese_success\")|(df['step_8']== \"purchese_success\")|(df['step_9']== \"purchese_success\")\n",
    "                     |(df['step_10']== \"purchese_success\")|(df['step_11']== \"purchese_success\")|(df['step_12']== \"purchese_success\")\n",
    "                     |(df['step_13']== \"purchese_success\")|(df['step_14']== \"purchese_success\")|(df['step_15']== \"purchese_success\")]"
   ]
  },
  {
   "cell_type": "markdown",
   "metadata": {},
   "source": [
    "# Bounce Rate for phones"
   ]
  },
  {
   "cell_type": "code",
   "execution_count": null,
   "metadata": {},
   "outputs": [],
   "source": [
    "df_phones=df.loc[(df['source']== 'ios')|(df['source']== 'android')]"
   ]
  },
  {
   "cell_type": "code",
   "execution_count": 17,
   "metadata": {},
   "outputs": [
    {
     "data": {
      "text/plain": [
       "Counter({'twitter_share': 1702,\n",
       "         'google': 2112,\n",
       "         'facebook_share': 3176,\n",
       "         'direct': 466,\n",
       "         'unknown': 356,\n",
       "         'facebook_advert': 1434})"
      ]
     },
     "execution_count": 17,
     "metadata": {},
     "output_type": "execute_result"
    }
   ],
   "source": [
    "#bounce_rate for phones\n",
    "bounce_phones=[]\n",
    "for index,row in df_phones.iterrows():\n",
    "         if pd.isnull(row[3])==True:                  \n",
    "            bounce_phones.append(row[0])\n",
    "        \n",
    "Counter(bounce_phones)        "
   ]
  },
  {
   "cell_type": "code",
   "execution_count": 14,
   "metadata": {},
   "outputs": [
    {
     "data": {
      "text/plain": [
       "google             28400\n",
       "facebook_share     25200\n",
       "twitter_share      10000\n",
       "direct              8600\n",
       "facebook_advert     4000\n",
       "advert_linkedin     4000\n",
       "unknown             1600\n",
       "Name: platform, dtype: int64"
      ]
     },
     "execution_count": 14,
     "metadata": {},
     "output_type": "execute_result"
    }
   ],
   "source": [
    "df_phones[\"platform\"].value_counts()"
   ]
  },
  {
   "cell_type": "markdown",
   "metadata": {},
   "source": [
    "facebook_advert=1434/4000\n",
    "print(facebook_advert)\n",
    "advert_linkedin=0\n",
    "print(advert_linkedin)"
   ]
  },
  {
   "cell_type": "markdown",
   "metadata": {},
   "source": [
    "# Bounce rate for PCs"
   ]
  },
  {
   "cell_type": "code",
   "execution_count": 116,
   "metadata": {},
   "outputs": [],
   "source": [
    "df_pcs=df.loc[(df['source']== 'mac')|(df['source']== 'windows')]"
   ]
  },
  {
   "cell_type": "code",
   "execution_count": 117,
   "metadata": {},
   "outputs": [
    {
     "data": {
      "text/plain": [
       "Counter({'facebook_advert': 1682,\n",
       "         'facebook_share': 1085,\n",
       "         'google': 1636,\n",
       "         'twitter_share': 804,\n",
       "         'direct': 258,\n",
       "         'unknown': 123})"
      ]
     },
     "execution_count": 117,
     "metadata": {},
     "output_type": "execute_result"
    }
   ],
   "source": [
    "bounce_pc=[]\n",
    "for index,row in df_pcs.iterrows():\n",
    "         if pd.isnull(row[3])==True:                  \n",
    "            bounce_pc.append(row[0])\n",
    "        \n",
    "Counter(bounce_pc)        "
   ]
  },
  {
   "cell_type": "markdown",
   "metadata": {},
   "source": [
    "# Bounce Rate"
   ]
  },
  {
   "cell_type": "code",
   "execution_count": 4,
   "metadata": {},
   "outputs": [
    {
     "data": {
      "text/plain": [
       "Counter({'facebook_advert': 3965,\n",
       "         'facebook_share': 4261,\n",
       "         'twitter_share': 2506,\n",
       "         'google': 3748,\n",
       "         'direct': 724,\n",
       "         'unknown': 479})"
      ]
     },
     "execution_count": 4,
     "metadata": {},
     "output_type": "execute_result"
    }
   ],
   "source": [
    "bounce=[]\n",
    "for index,row in df.iterrows():\n",
    "         if pd.isnull(row[3])==True:                  \n",
    "            bounce.append(row[0])\n",
    "        \n",
    "Counter(bounce)        "
   ]
  },
  {
   "cell_type": "code",
   "execution_count": 5,
   "metadata": {},
   "outputs": [
    {
     "data": {
      "text/plain": [
       "google             49200\n",
       "facebook_share     39600\n",
       "twitter_share      15600\n",
       "direct             14600\n",
       "facebook_advert    10000\n",
       "advert_linkedin    10000\n",
       "unknown             2600\n",
       "Name: platform, dtype: int64"
      ]
     },
     "execution_count": 5,
     "metadata": {},
     "output_type": "execute_result"
    }
   ],
   "source": [
    "df[\"platform\"].value_counts()"
   ]
  },
  {
   "cell_type": "code",
   "execution_count": 8,
   "metadata": {},
   "outputs": [
    {
     "name": "stdout",
     "output_type": "stream",
     "text": [
      "facebook_advert 0.3965\n",
      "advert_linkedin 0\n"
     ]
    }
   ],
   "source": [
    "facebook_advert= 3965/10000\n",
    "print(\"facebook_advert\",facebook_advert)\n",
    "advert_linkedin=0 \n",
    "print(\"advert_linkedin\",advert_linkedin)"
   ]
  },
  {
   "cell_type": "markdown",
   "metadata": {},
   "source": [
    "# Average Pages per Session"
   ]
  },
  {
   "cell_type": "code",
   "execution_count": 24,
   "metadata": {},
   "outputs": [
    {
     "data": {
      "text/plain": [
       "Counter({1: 15683,\n",
       "         4: 28691,\n",
       "         3: 39062,\n",
       "         2: 34779,\n",
       "         6: 5993,\n",
       "         5: 13614,\n",
       "         8: 875,\n",
       "         7: 2417,\n",
       "         10: 91,\n",
       "         9: 341,\n",
       "         11: 33,\n",
       "         12: 12,\n",
       "         14: 2,\n",
       "         13: 6,\n",
       "         15: 1})"
      ]
     },
     "execution_count": 24,
     "metadata": {},
     "output_type": "execute_result"
    }
   ],
   "source": [
    "bblog= []\n",
    "for index,row in df.iterrows():\n",
    "    bblog.append(row.count()-2)\n",
    "    \n",
    "Counter(bblog)"
   ]
  },
  {
   "cell_type": "code",
   "execution_count": 25,
   "metadata": {},
   "outputs": [
    {
     "name": "stdout",
     "output_type": "stream",
     "text": [
      "3.1761652542372882\n"
     ]
    },
    {
     "data": {
      "text/plain": [
       "google             49200\n",
       "facebook_share     39600\n",
       "twitter_share      15600\n",
       "direct             14600\n",
       "facebook_advert    10000\n",
       "advert_linkedin    10000\n",
       "unknown             2600\n",
       "Name: platform, dtype: int64"
      ]
     },
     "execution_count": 25,
     "metadata": {},
     "output_type": "execute_result"
    }
   ],
   "source": [
    "import numpy as np\n",
    "Counter(bblog)\n",
    "print(np.mean(bblog))\n",
    "df[\"platform\"].value_counts()"
   ]
  },
  {
   "cell_type": "markdown",
   "metadata": {},
   "source": [
    "# Exit Rate"
   ]
  },
  {
   "cell_type": "code",
   "execution_count": 130,
   "metadata": {},
   "outputs": [
    {
     "name": "stdout",
     "output_type": "stream",
     "text": [
      "this is the numenator Counter({'blog_1': 29772, 'contact': 29625, 'purchase_start': 24336, 'purchese_success': 20975, 'pricing': 20344, 'home': 12582, 'advert_landing': 3965})\n",
      "21000\n",
      "31218\n",
      "39569\n",
      "72780\n",
      "61905\n",
      "101153\n",
      "122120\n"
     ]
    }
   ],
   "source": [
    "exit=[]\n",
    "for index,row in df.iterrows():\n",
    "    for previous,current in zip(row,row[1:]):\n",
    "        #print(previous,current)\n",
    "        if pd.isnull(current) == True and pd.isnull(previous)== False:\n",
    "            exit.append(previous)\n",
    "            \n",
    "                            \n",
    "print(\"this is the numenator\",Counter(exit))\n",
    "advert_landing=0\n",
    "purchese_success=0\n",
    "contact=0\n",
    "blog_1=0\n",
    "purchase_start=0\n",
    "pricing=0\n",
    "home=0\n",
    "for index,row in df.iterrows():\n",
    "    for i in row:\n",
    "        if i=='advert_landing':\n",
    "            advert_landing+=1\n",
    "        if i==\"purchese_success\":\n",
    "            purchese_success+=1\n",
    "        if i== \"contact\":\n",
    "            contact+=1\n",
    "        if i==\"blog_1\":\n",
    "            blog_1+=1\n",
    "        if i==\"purchase_start\":\n",
    "            purchase_start+=1\n",
    "        if i==\"pricing\":\n",
    "            pricing+=1\n",
    "        if i==\"home\":\n",
    "            home+=1\n",
    "print(advert_landing)\n",
    "print(purchese_success)\n",
    "print(contact)\n",
    "print(blog_1)\n",
    "print(purchase_start)\n",
    "print(pricing)\n",
    "print(home)\n"
   ]
  },
  {
   "cell_type": "code",
   "execution_count": 131,
   "metadata": {},
   "outputs": [
    {
     "name": "stdout",
     "output_type": "stream",
     "text": [
      "advert_landing 0.18880952380952382\n",
      "purchese_success 0.6718880133256454\n",
      "contact 0.7486921580024767\n",
      "blog_1 0.4090684253915911\n",
      "purchase_start 0.39311848800581534\n",
      "pricing 0.20112107401658874\n",
      "home 0.10302980674746151\n"
     ]
    }
   ],
   "source": [
    "for key,value in Counter(exit).items():\n",
    "    if key==\"blog_1\":\n",
    "        print(\"blog_1\",value/blog_1)\n",
    "    if key==\"contact\":\n",
    "        print(\"contact\",value/contact)\n",
    "    if key==\"purchase_start\":\n",
    "        print(\"purchase_start\",value/purchase_start)\n",
    "    if key==\"purchese_success\":\n",
    "        print('purchese_success',value/purchese_success)\n",
    "    if key=='pricing':\n",
    "        print( 'pricing',value/pricing)\n",
    "    if key==\"home\":\n",
    "        print(\"home\",value/home)\n",
    "    if key==\"advert_landing\":\n",
    "        print(\"advert_landing\",value/advert_landing)\n",
    "    "
   ]
  },
  {
   "cell_type": "markdown",
   "metadata": {},
   "source": [
    "# Exit rate for facebook_advert"
   ]
  },
  {
   "cell_type": "code",
   "execution_count": 132,
   "metadata": {},
   "outputs": [
    {
     "name": "stdout",
     "output_type": "stream",
     "text": [
      "advert_landing 0.3965\n",
      "purchese_success 0.8258785942492013\n",
      "pricing 0.5361328125\n",
      "purchase_start 0.7059175134488942\n",
      "blog_1 0.6791907514450867\n",
      "contact 0.8547008547008547\n",
      "home 0.5060728744939271\n"
     ]
    }
   ],
   "source": [
    "f_adv=df.loc[df[\"platform\"]==\"facebook_advert\"]\n",
    "exit=[]\n",
    "for index,row in f_adv.iterrows():\n",
    "    for previous,current in zip(row,row[1:]):\n",
    "        #print(previous,current)\n",
    "        if pd.isnull(current) == True and pd.isnull(previous)== False:\n",
    "            exit.append(previous)\n",
    "            \n",
    "                            \n",
    "Counter(exit)\n",
    "advert_landing=0\n",
    "purchese_success=0\n",
    "contact=0\n",
    "blog_1=0\n",
    "purchase_start=0\n",
    "pricing=0\n",
    "home=0\n",
    "for index,row in f_adv.iterrows():\n",
    "    for i in row:\n",
    "        if i=='advert_landing':\n",
    "            advert_landing+=1\n",
    "        if i==\"purchese_success\":\n",
    "            purchese_success+=1\n",
    "        if i== \"contact\":\n",
    "            contact+=1\n",
    "        if i==\"blog_1\":\n",
    "            blog_1+=1\n",
    "        if i==\"purchase_start\":\n",
    "            purchase_start+=1\n",
    "        if i==\"pricing\":\n",
    "            pricing+=1\n",
    "        if i==\"home\":\n",
    "            home+=1\n",
    "for key,value in Counter(exit).items():\n",
    "    if key==\"blog_1\":\n",
    "        print(\"blog_1\",value/blog_1)\n",
    "    if key==\"contact\":\n",
    "        print(\"contact\",value/contact)\n",
    "    if key==\"purchase_start\":\n",
    "        print(\"purchase_start\",value/purchase_start)\n",
    "    if key==\"purchese_success\":\n",
    "        print('purchese_success',value/purchese_success)\n",
    "    if key=='pricing':\n",
    "        print( 'pricing',value/pricing)\n",
    "    if key==\"home\":\n",
    "        print(\"home\",value/home)\n",
    "    if key==\"advert_landing\":\n",
    "        print(\"advert_landing\",value/advert_landing)"
   ]
  },
  {
   "cell_type": "markdown",
   "metadata": {},
   "source": [
    "# Exit rate for facebook_advert"
   ]
  },
  {
   "cell_type": "code",
   "execution_count": 123,
   "metadata": {},
   "outputs": [
    {
     "data": {
      "text/plain": [
       "Counter({'purchese_success': 3388,\n",
       "         'purchase_start': 2122,\n",
       "         'pricing': 1506,\n",
       "         'blog_1': 1047,\n",
       "         'contact': 1620,\n",
       "         'home': 317})"
      ]
     },
     "execution_count": 123,
     "metadata": {},
     "output_type": "execute_result"
    }
   ],
   "source": [
    "link_adv=df.loc[df[\"platform\"]==\"advert_linkedin\"]\n",
    "exit=[]\n",
    "for index,row in link_adv.iterrows():\n",
    "    for previous,current in zip(row,row[1:]):\n",
    "        #print(previous,current)\n",
    "        if pd.isnull(current) == True and pd.isnull(previous)== False:\n",
    "            exit.append(previous)\n",
    "            \n",
    "                            \n",
    "Counter(exit)"
   ]
  },
  {
   "cell_type": "code",
   "execution_count": null,
   "metadata": {},
   "outputs": [],
   "source": [
    "count=[]\n",
    "for index,row in df.iterrows():\n",
    "    for i in row:\n",
    "        count.append(i)"
   ]
  },
  {
   "cell_type": "code",
   "execution_count": null,
   "metadata": {},
   "outputs": [],
   "source": [
    "Counter(count)"
   ]
  },
  {
   "cell_type": "markdown",
   "metadata": {},
   "source": [
    "# LINKEDIN ADVERT AVERAGE PAGES PER SESSION"
   ]
  },
  {
   "cell_type": "code",
   "execution_count": 133,
   "metadata": {},
   "outputs": [],
   "source": [
    "p_linkadv= []\n",
    "for index,row in df.loc[df[\"platform\"]==\"advert_linkedin\"].iterrows():\n",
    "    p_linkadv.append(row.count()-2)"
   ]
  },
  {
   "cell_type": "code",
   "execution_count": 134,
   "metadata": {},
   "outputs": [
    {
     "name": "stdout",
     "output_type": "stream",
     "text": [
      "3.5072\n"
     ]
    }
   ],
   "source": [
    "Counter(p_linkadv)\n",
    "print(np.mean(p_linkadv))"
   ]
  },
  {
   "cell_type": "markdown",
   "metadata": {},
   "source": [
    "# FACEBOOK ADVERTS AVERAGE PAGES PER SESSION"
   ]
  },
  {
   "cell_type": "code",
   "execution_count": 50,
   "metadata": {},
   "outputs": [],
   "source": [
    "p_fbadv= []\n",
    "for index,row in df.loc[df[\"platform\"]==\"facebook_advert\"].iterrows():\n",
    "    p_fbadv.append(row.count()-2)"
   ]
  },
  {
   "cell_type": "code",
   "execution_count": 51,
   "metadata": {},
   "outputs": [
    {
     "name": "stdout",
     "output_type": "stream",
     "text": [
      "1.9363\n"
     ]
    }
   ],
   "source": [
    "Counter(p_fbadv)\n",
    "print(np.mean(p_fbadv))"
   ]
  },
  {
   "cell_type": "code",
   "execution_count": null,
   "metadata": {},
   "outputs": [],
   "source": [
    "purchase"
   ]
  },
  {
   "cell_type": "code",
   "execution_count": 45,
   "metadata": {},
   "outputs": [],
   "source": [
    "pur_dict={\"step_3\":2722,\"step_4\":22098,\"step_5\":3611,\"step_6\":1710,\"step_7\":704,\"step_8\":250,\"step_9\":86,\n",
    "          \"step_10\":23,\"step_11\":8,\n",
    "         \"step_12\":5,\"step_13\":0,\"step_14\":0,\"step_15\":1}"
   ]
  },
  {
   "cell_type": "code",
   "execution_count": 149,
   "metadata": {},
   "outputs": [],
   "source": [
    "import numpy as np\n",
    "import matplotlib.pyplot as plt"
   ]
  },
  {
   "cell_type": "code",
   "execution_count": 47,
   "metadata": {},
   "outputs": [
    {
     "data": {
      "image/png": "[encoded data removed]",
      "text/plain": [
       "<Figure size 432x288 with 1 Axes>"
      ]
     },
     "metadata": {
      "needs_background": "light"
     },
     "output_type": "display_data"
    }
   ],
   "source": [
    "plt.bar(pur_dict.keys(),pur_dict.values())\n",
    "plt.show()"
   ]
  },
  {
   "cell_type": "code",
   "execution_count": null,
   "metadata": {},
   "outputs": [],
   "source": [
    "purchase[\"platform\"].unique()"
   ]
  },
  {
   "cell_type": "markdown",
   "metadata": {},
   "source": [
    "# TWITTER SHARE CONVERSION RATE"
   ]
  },
  {
   "cell_type": "code",
   "execution_count": 42,
   "metadata": {},
   "outputs": [
    {
     "data": {
      "text/plain": [
       "3290"
      ]
     },
     "execution_count": 42,
     "metadata": {},
     "output_type": "execute_result"
    }
   ],
   "source": [
    "len(purchase.loc[df[\"platform\"]==\"twitter_share\"])"
   ]
  },
  {
   "cell_type": "code",
   "execution_count": 43,
   "metadata": {},
   "outputs": [
    {
     "data": {
      "text/plain": [
       "15600"
      ]
     },
     "execution_count": 43,
     "metadata": {},
     "output_type": "execute_result"
    }
   ],
   "source": [
    "len(df.loc[df[\"platform\"]==\"twitter_share\"])"
   ]
  },
  {
   "cell_type": "code",
   "execution_count": 44,
   "metadata": {},
   "outputs": [
    {
     "name": "stdout",
     "output_type": "stream",
     "text": [
      "21.08974358974359\n"
     ]
    }
   ],
   "source": [
    "Twi_sh_CR=len(purchase.loc[df[\"platform\"]==\"twitter_share\"])/len(df.loc[df[\"platform\"]==\"twitter_share\"])*100\n",
    "print(Twi_sh_CR)"
   ]
  },
  {
   "cell_type": "markdown",
   "metadata": {},
   "source": [
    "# FACEBOOK sHARE CONVERSION RATE"
   ]
  },
  {
   "cell_type": "code",
   "execution_count": 28,
   "metadata": {},
   "outputs": [
    {
     "data": {
      "text/plain": [
       "9327"
      ]
     },
     "execution_count": 28,
     "metadata": {},
     "output_type": "execute_result"
    }
   ],
   "source": [
    "len(purchase.loc[df[\"platform\"]==\"facebook_share\"])"
   ]
  },
  {
   "cell_type": "code",
   "execution_count": 29,
   "metadata": {},
   "outputs": [
    {
     "data": {
      "text/plain": [
       "39600"
      ]
     },
     "execution_count": 29,
     "metadata": {},
     "output_type": "execute_result"
    }
   ],
   "source": [
    "len(df.loc[df[\"platform\"]==\"facebook_share\"])"
   ]
  },
  {
   "cell_type": "code",
   "execution_count": 30,
   "metadata": {},
   "outputs": [
    {
     "name": "stdout",
     "output_type": "stream",
     "text": [
      "23.553030303030305\n"
     ]
    }
   ],
   "source": [
    "fb_sh_CR=len(purchase.loc[df[\"platform\"]==\"facebook_share\"])/len(df.loc[df[\"platform\"]==\"facebook_share\"])*100\n",
    "print(fb_sh_CR)"
   ]
  },
  {
   "cell_type": "markdown",
   "metadata": {},
   "source": [
    "# FACEBOOK ADVERTS CONVERSION RATE"
   ]
  },
  {
   "cell_type": "code",
   "execution_count": 31,
   "metadata": {},
   "outputs": [
    {
     "data": {
      "text/plain": [
       "616"
      ]
     },
     "execution_count": 31,
     "metadata": {},
     "output_type": "execute_result"
    }
   ],
   "source": [
    "len(purchase.loc[df[\"platform\"]==\"facebook_advert\"])"
   ]
  },
  {
   "cell_type": "code",
   "execution_count": 32,
   "metadata": {},
   "outputs": [
    {
     "data": {
      "text/plain": [
       "10000"
      ]
     },
     "execution_count": 32,
     "metadata": {},
     "output_type": "execute_result"
    }
   ],
   "source": [
    "len(df.loc[df[\"platform\"]==\"facebook_advert\"])"
   ]
  },
  {
   "cell_type": "code",
   "execution_count": 33,
   "metadata": {},
   "outputs": [],
   "source": [
    "fb_adv_CR=len(purchase.loc[df[\"platform\"]==\"facebook_advert\"])/len(df.loc[df[\"platform\"]==\"facebook_advert\"])*100"
   ]
  },
  {
   "cell_type": "code",
   "execution_count": 34,
   "metadata": {},
   "outputs": [
    {
     "name": "stdout",
     "output_type": "stream",
     "text": [
      "6.16\n"
     ]
    }
   ],
   "source": [
    "print(fb_adv_CR) "
   ]
  },
  {
   "cell_type": "markdown",
   "metadata": {},
   "source": [
    "# LINKEDIN ADVERTS CONVERSION RATE"
   ]
  },
  {
   "cell_type": "code",
   "execution_count": 73,
   "metadata": {},
   "outputs": [
    {
     "data": {
      "text/plain": [
       "5004"
      ]
     },
     "execution_count": 73,
     "metadata": {},
     "output_type": "execute_result"
    }
   ],
   "source": [
    "len(purchase.loc[purchase[\"platform\"]=='advert_linkedin'])"
   ]
  },
  {
   "cell_type": "code",
   "execution_count": 74,
   "metadata": {},
   "outputs": [
    {
     "data": {
      "text/plain": [
       "10000"
      ]
     },
     "execution_count": 74,
     "metadata": {},
     "output_type": "execute_result"
    }
   ],
   "source": [
    "len(df.loc[df[\"platform\"]=='advert_linkedin'])"
   ]
  },
  {
   "cell_type": "code",
   "execution_count": 75,
   "metadata": {},
   "outputs": [
    {
     "name": "stdout",
     "output_type": "stream",
     "text": [
      "50.03999999999999\n"
     ]
    }
   ],
   "source": [
    "lin_adv_CR=len(purchase.loc[purchase[\"platform\"]=='advert_linkedin'])/len(df.loc[df[\"platform\"]=='advert_linkedin'])*100\n",
    "print(lin_adv_CR)"
   ]
  },
  {
   "cell_type": "markdown",
   "metadata": {},
   "source": [
    "# PC LINKEDIN ADVERT CONVERSION RATE"
   ]
  },
  {
   "cell_type": "code",
   "execution_count": 93,
   "metadata": {},
   "outputs": [
    {
     "data": {
      "text/plain": [
       "2420"
      ]
     },
     "execution_count": 93,
     "metadata": {},
     "output_type": "execute_result"
    }
   ],
   "source": [
    "pur_linked=purchase.loc[purchase[\"platform\"]== \"advert_linkedin\"]\n",
    "len(pur_linked.loc[(purchase[\"source\"] == 'windows') | (purchase[\"source\"] == 'mac')])"
   ]
  },
  {
   "cell_type": "code",
   "execution_count": 96,
   "metadata": {},
   "outputs": [
    {
     "data": {
      "text/plain": [
       "4000"
      ]
     },
     "execution_count": 96,
     "metadata": {},
     "output_type": "execute_result"
    }
   ],
   "source": [
    "pur_linked2=df.loc[df[\"platform\"]== \"advert_linkedin\"]\n",
    "len(pur_linked2.loc[(df[\"source\"] == 'windows') | (df[\"source\"] == 'mac')])"
   ]
  },
  {
   "cell_type": "code",
   "execution_count": 98,
   "metadata": {},
   "outputs": [
    {
     "name": "stdout",
     "output_type": "stream",
     "text": [
      "60.5\n"
     ]
    }
   ],
   "source": [
    "PC_linkedin_CR= len(pur_linked.loc[(purchase[\"source\"] == 'windows') | (purchase[\"source\"] == 'mac')])/len(pur_linked2.loc[(df[\"source\"] == 'windows') | (df[\"source\"] == 'mac')])*100\n",
    "print(PC_linkedin_CR)"
   ]
  },
  {
   "cell_type": "markdown",
   "metadata": {},
   "source": [
    "# Pc Facebook advert conversion rate"
   ]
  },
  {
   "cell_type": "code",
   "execution_count": 100,
   "metadata": {},
   "outputs": [
    {
     "data": {
      "text/plain": [
       "275"
      ]
     },
     "execution_count": 100,
     "metadata": {},
     "output_type": "execute_result"
    }
   ],
   "source": [
    "pur_linked3=purchase.loc[purchase[\"platform\"]== \"facebook_advert\"]\n",
    "len(pur_linked3.loc[(purchase[\"source\"] == 'windows') | (purchase[\"source\"] == 'mac')])"
   ]
  },
  {
   "cell_type": "code",
   "execution_count": 101,
   "metadata": {},
   "outputs": [
    {
     "data": {
      "text/plain": [
       "4000"
      ]
     },
     "execution_count": 101,
     "metadata": {},
     "output_type": "execute_result"
    }
   ],
   "source": [
    "pur_linked4=df.loc[df[\"platform\"]== \"advert_linkedin\"]\n",
    "len(pur_linked4.loc[(df[\"source\"] == 'windows') | (df[\"source\"] == 'mac')])"
   ]
  },
  {
   "cell_type": "code",
   "execution_count": 103,
   "metadata": {},
   "outputs": [
    {
     "name": "stdout",
     "output_type": "stream",
     "text": [
      "6.875000000000001\n"
     ]
    }
   ],
   "source": [
    "PC_facebook_CR=len(pur_linked3.loc[(purchase[\"source\"] == 'windows') | (purchase[\"source\"] == 'mac')])/len(pur_linked4.loc[(df[\"source\"] == 'windows') | (df[\"source\"] == 'mac')])*100\n",
    "print(PC_facebook_CR)"
   ]
  },
  {
   "cell_type": "markdown",
   "metadata": {},
   "source": [
    "# mobile facebook conversion rate"
   ]
  },
  {
   "cell_type": "code",
   "execution_count": 109,
   "metadata": {},
   "outputs": [
    {
     "data": {
      "text/plain": [
       "192"
      ]
     },
     "execution_count": 109,
     "metadata": {},
     "output_type": "execute_result"
    }
   ],
   "source": [
    "pur_5=purchase.loc[purchase[\"platform\"]== \"facebook_advert\"]\n",
    "len(pur_5.loc[(purchase[\"source\"] == 'ios') | (purchase[\"source\"] == 'android')])"
   ]
  },
  {
   "cell_type": "code",
   "execution_count": 110,
   "metadata": {},
   "outputs": [
    {
     "data": {
      "text/plain": [
       "4000"
      ]
     },
     "execution_count": 110,
     "metadata": {},
     "output_type": "execute_result"
    }
   ],
   "source": [
    "pur_6=df.loc[df[\"platform\"]== \"facebook_advert\"]\n",
    "len(pur_6.loc[(df[\"source\"] == 'ios') | (df[\"source\"] == 'android')])"
   ]
  },
  {
   "cell_type": "code",
   "execution_count": 111,
   "metadata": {},
   "outputs": [
    {
     "name": "stdout",
     "output_type": "stream",
     "text": [
      "4.8\n"
     ]
    }
   ],
   "source": [
    "fb_mobile_CR=len(pur_5.loc[(purchase[\"source\"] == 'ios') | (purchase[\"source\"] == 'android')])/len(pur_6.loc[(df[\"source\"] == 'ios') | (df[\"source\"] == 'android')])*100\n",
    "print(fb_mobile_CR)"
   ]
  },
  {
   "cell_type": "markdown",
   "metadata": {},
   "source": [
    "# mobile linkedin conversion rate\n"
   ]
  },
  {
   "cell_type": "code",
   "execution_count": 113,
   "metadata": {},
   "outputs": [
    {
     "data": {
      "text/plain": [
       "1416"
      ]
     },
     "execution_count": 113,
     "metadata": {},
     "output_type": "execute_result"
    }
   ],
   "source": [
    "pur_7=purchase.loc[purchase[\"platform\"]== \"advert_linkedin\"]\n",
    "len(pur_7.loc[(purchase[\"source\"] == 'ios') | (purchase[\"source\"] == 'android')])"
   ]
  },
  {
   "cell_type": "code",
   "execution_count": 114,
   "metadata": {},
   "outputs": [
    {
     "data": {
      "text/plain": [
       "4000"
      ]
     },
     "execution_count": 114,
     "metadata": {},
     "output_type": "execute_result"
    }
   ],
   "source": [
    "pur_8=df.loc[df[\"platform\"]== \"advert_linkedin\"]\n",
    "len(pur_8.loc[(df[\"source\"] == 'ios') | (df[\"source\"] == 'android')])"
   ]
  },
  {
   "cell_type": "code",
   "execution_count": 115,
   "metadata": {},
   "outputs": [
    {
     "name": "stdout",
     "output_type": "stream",
     "text": [
      "35.4\n"
     ]
    }
   ],
   "source": [
    "link_mobile_CR=len(pur_7.loc[(purchase[\"source\"] == 'ios') | (purchase[\"source\"] == 'android')])/len(pur_8.loc[(df[\"source\"] == 'ios') | (df[\"source\"] == 'android')])*100\n",
    "print(link_mobile_CR)"
   ]
  },
  {
   "cell_type": "markdown",
   "metadata": {},
   "source": [
    "# mobile conversion rate"
   ]
  },
  {
   "cell_type": "code",
   "execution_count": 66,
   "metadata": {},
   "outputs": [
    {
     "data": {
      "text/plain": [
       "13732"
      ]
     },
     "execution_count": 66,
     "metadata": {},
     "output_type": "execute_result"
    }
   ],
   "source": [
    "len(purchase.loc[(purchase[\"source\"] == 'android') | (purchase[\"source\"] == 'ios')])"
   ]
  },
  {
   "cell_type": "code",
   "execution_count": 67,
   "metadata": {},
   "outputs": [
    {
     "data": {
      "text/plain": [
       "81800"
      ]
     },
     "execution_count": 67,
     "metadata": {},
     "output_type": "execute_result"
    }
   ],
   "source": [
    "len(df.loc[(df[\"source\"] == 'android') | (df[\"source\"] == 'ios')])"
   ]
  },
  {
   "cell_type": "code",
   "execution_count": 69,
   "metadata": {},
   "outputs": [
    {
     "name": "stdout",
     "output_type": "stream",
     "text": [
      "16.78728606356968\n"
     ]
    }
   ],
   "source": [
    "mobile_CR= len(purchase.loc[(purchase[\"source\"] == 'android') |\n",
    "                            (purchase[\"source\"] == 'ios')])/len(df.loc[(df[\"source\"] == 'android') |\n",
    "                                                                       (df[\"source\"] == 'ios')])*100\n",
    "print(mobile_CR)"
   ]
  },
  {
   "cell_type": "markdown",
   "metadata": {},
   "source": [
    "# PC conversion rate"
   ]
  },
  {
   "cell_type": "code",
   "execution_count": 136,
   "metadata": {},
   "outputs": [
    {
     "data": {
      "text/plain": [
       "15864"
      ]
     },
     "execution_count": 136,
     "metadata": {},
     "output_type": "execute_result"
    }
   ],
   "source": [
    "len(purchase.loc[(purchase[\"source\"] == 'mac') | (purchase[\"source\"] == 'windows')])"
   ]
  },
  {
   "cell_type": "code",
   "execution_count": 137,
   "metadata": {},
   "outputs": [
    {
     "data": {
      "text/plain": [
       "55600"
      ]
     },
     "execution_count": 137,
     "metadata": {},
     "output_type": "execute_result"
    }
   ],
   "source": [
    "len(df.loc[(df[\"source\"] == 'mac') | (df[\"source\"] == 'windows')])"
   ]
  },
  {
   "cell_type": "code",
   "execution_count": 138,
   "metadata": {},
   "outputs": [
    {
     "name": "stdout",
     "output_type": "stream",
     "text": [
      "28.532374100719426\n"
     ]
    }
   ],
   "source": [
    "PC_CR=len(purchase.loc[(purchase[\"source\"] == 'mac') | (purchase[\"source\"] == 'windows')])/len(df.loc[(df[\"source\"] == 'mac') | (df[\"source\"] == 'windows')])*100\n",
    "print(PC_CR)"
   ]
  },
  {
   "cell_type": "code",
   "execution_count": 153,
   "metadata": {},
   "outputs": [],
   "source": [
    "mm={'linkedIn_mobile':35.4,'linkedIn_PC':60.5,'facebook_mobile':4.8,'facebook_PC':6.87}\n"
   ]
  },
  {
   "cell_type": "code",
   "execution_count": 155,
   "metadata": {},
   "outputs": [
    {
     "data": {
      "image/png": "[encoded data removed]",
      "text/plain": [
       "<Figure size 432x288 with 1 Axes>"
      ]
     },
     "metadata": {
      "needs_background": "light"
     },
     "output_type": "display_data"
    },
    {
     "data": {
      "text/plain": [
       "<Figure size 2160x2160 with 0 Axes>"
      ]
     },
     "metadata": {},
     "output_type": "display_data"
    },
    {
     "data": {
      "text/plain": [
       "<Figure size 432x288 with 0 Axes>"
      ]
     },
     "metadata": {},
     "output_type": "display_data"
    }
   ],
   "source": [
    "plt.bar(mm.keys(),mm.values())\n",
    "plt.figure(figsize=(30,30))\n",
    "plt.show()\n",
    "plt.savefig('hist.png')"
   ]
  },
  {
   "cell_type": "code",
   "execution_count": null,
   "metadata": {},
   "outputs": [],
   "source": []
  }
 ],
 "metadata": {
  "kernelspec": {
   "display_name": "Python 3",
   "language": "python",
   "name": "python3"
  },
  "language_info": {
   "codemirror_mode": {
    "name": "ipython",
    "version": 3
   },
   "file_extension": ".py",
   "mimetype": "text/x-python",
   "name": "python",
   "nbconvert_exporter": "python",
   "pygments_lexer": "ipython3",
   "version": "3.7.6"
  }
 },
 "nbformat": 4,
 "nbformat_minor": 2
}
